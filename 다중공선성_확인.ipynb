{
 "cells": [
  {
   "cell_type": "markdown",
   "metadata": {},
   "source": [
    "# 다중공선성 - VIF 구하기"
   ]
  },
  {
   "cell_type": "code",
   "execution_count": 1,
   "metadata": {},
   "outputs": [],
   "source": [
    "import pandas as pd"
   ]
  },
  {
   "cell_type": "code",
   "execution_count": 14,
   "metadata": {},
   "outputs": [
    {
     "data": {
      "text/plain": [
       "Index(['mileage', 'model', 'price', 'year', 'my_car_damage',\n",
       "       'other_car_damage'],\n",
       "      dtype='object')"
      ]
     },
     "execution_count": 14,
     "metadata": {},
     "output_type": "execute_result"
    }
   ],
   "source": [
    "df = pd.read_excel(\"C:/Users/김나영/Desktop/data/small_used_car.xlsx\")\n",
    "df.columns"
   ]
  },
  {
   "cell_type": "code",
   "execution_count": 13,
   "metadata": {},
   "outputs": [],
   "source": [
    "from statsmodels.formula.api import ols"
   ]
  },
  {
   "cell_type": "code",
   "execution_count": 15,
   "metadata": {},
   "outputs": [],
   "source": [
    "# price~나머지 변수의 회귀분석 모델을 만들려고 함\n",
    "# 이때 이때 mileage의 VIF를 구하려고 함\n",
    "res = ols('mileage ~ model+year+my_car_damage+other_car_damage', data=df).fit()"
   ]
  },
  {
   "cell_type": "code",
   "execution_count": 16,
   "metadata": {},
   "outputs": [
    {
     "data": {
      "text/html": [
       "<table class=\"simpletable\">\n",
       "<caption>OLS Regression Results</caption>\n",
       "<tr>\n",
       "  <th>Dep. Variable:</th>         <td>mileage</td>     <th>  R-squared:         </th> <td>   0.338</td>\n",
       "</tr>\n",
       "<tr>\n",
       "  <th>Model:</th>                   <td>OLS</td>       <th>  Adj. R-squared:    </th> <td>   0.328</td>\n",
       "</tr>\n",
       "<tr>\n",
       "  <th>Method:</th>             <td>Least Squares</td>  <th>  F-statistic:       </th> <td>   34.36</td>\n",
       "</tr>\n",
       "<tr>\n",
       "  <th>Date:</th>             <td>Wed, 28 Oct 2020</td> <th>  Prob (F-statistic):</th> <td>3.62e-23</td>\n",
       "</tr>\n",
       "<tr>\n",
       "  <th>Time:</th>                 <td>15:55:06</td>     <th>  Log-Likelihood:    </th> <td> -3255.1</td>\n",
       "</tr>\n",
       "<tr>\n",
       "  <th>No. Observations:</th>      <td>   274</td>      <th>  AIC:               </th> <td>   6520.</td>\n",
       "</tr>\n",
       "<tr>\n",
       "  <th>Df Residuals:</th>          <td>   269</td>      <th>  BIC:               </th> <td>   6538.</td>\n",
       "</tr>\n",
       "<tr>\n",
       "  <th>Df Model:</th>              <td>     4</td>      <th>                     </th>     <td> </td>   \n",
       "</tr>\n",
       "<tr>\n",
       "  <th>Covariance Type:</th>      <td>nonrobust</td>    <th>                     </th>     <td> </td>   \n",
       "</tr>\n",
       "</table>\n",
       "<table class=\"simpletable\">\n",
       "<tr>\n",
       "          <td></td>            <th>coef</th>     <th>std err</th>      <th>t</th>      <th>P>|t|</th>  <th>[0.025</th>    <th>0.975]</th>  \n",
       "</tr>\n",
       "<tr>\n",
       "  <th>Intercept</th>        <td> 1.956e+07</td> <td>  1.8e+06</td> <td>   10.861</td> <td> 0.000</td> <td>  1.6e+07</td> <td> 2.31e+07</td>\n",
       "</tr>\n",
       "<tr>\n",
       "  <th>model[T.K3]</th>      <td> -160.5713</td> <td> 5003.433</td> <td>   -0.032</td> <td> 0.974</td> <td>   -1e+04</td> <td> 9690.298</td>\n",
       "</tr>\n",
       "<tr>\n",
       "  <th>year</th>             <td>-9677.1395</td> <td>  894.403</td> <td>  -10.820</td> <td> 0.000</td> <td>-1.14e+04</td> <td>-7916.218</td>\n",
       "</tr>\n",
       "<tr>\n",
       "  <th>my_car_damage</th>    <td>    0.0005</td> <td>    0.001</td> <td>    0.679</td> <td> 0.498</td> <td>   -0.001</td> <td>    0.002</td>\n",
       "</tr>\n",
       "<tr>\n",
       "  <th>other_car_damage</th> <td>   -0.0011</td> <td>    0.000</td> <td>   -2.319</td> <td> 0.021</td> <td>   -0.002</td> <td>   -0.000</td>\n",
       "</tr>\n",
       "</table>\n",
       "<table class=\"simpletable\">\n",
       "<tr>\n",
       "  <th>Omnibus:</th>       <td>45.374</td> <th>  Durbin-Watson:     </th> <td>   1.670</td>\n",
       "</tr>\n",
       "<tr>\n",
       "  <th>Prob(Omnibus):</th> <td> 0.000</td> <th>  Jarque-Bera (JB):  </th> <td>  86.746</td>\n",
       "</tr>\n",
       "<tr>\n",
       "  <th>Skew:</th>          <td> 0.871</td> <th>  Prob(JB):          </th> <td>1.46e-19</td>\n",
       "</tr>\n",
       "<tr>\n",
       "  <th>Kurtosis:</th>      <td> 5.137</td> <th>  Cond. No.          </th> <td>4.56e+09</td>\n",
       "</tr>\n",
       "</table><br/><br/>Warnings:<br/>[1] Standard Errors assume that the covariance matrix of the errors is correctly specified.<br/>[2] The condition number is large, 4.56e+09. This might indicate that there are<br/>strong multicollinearity or other numerical problems."
      ],
      "text/plain": [
       "<class 'statsmodels.iolib.summary.Summary'>\n",
       "\"\"\"\n",
       "                            OLS Regression Results                            \n",
       "==============================================================================\n",
       "Dep. Variable:                mileage   R-squared:                       0.338\n",
       "Model:                            OLS   Adj. R-squared:                  0.328\n",
       "Method:                 Least Squares   F-statistic:                     34.36\n",
       "Date:                Wed, 28 Oct 2020   Prob (F-statistic):           3.62e-23\n",
       "Time:                        15:55:06   Log-Likelihood:                -3255.1\n",
       "No. Observations:                 274   AIC:                             6520.\n",
       "Df Residuals:                     269   BIC:                             6538.\n",
       "Df Model:                           4                                         \n",
       "Covariance Type:            nonrobust                                         \n",
       "====================================================================================\n",
       "                       coef    std err          t      P>|t|      [0.025      0.975]\n",
       "------------------------------------------------------------------------------------\n",
       "Intercept         1.956e+07    1.8e+06     10.861      0.000     1.6e+07    2.31e+07\n",
       "model[T.K3]       -160.5713   5003.433     -0.032      0.974      -1e+04    9690.298\n",
       "year             -9677.1395    894.403    -10.820      0.000   -1.14e+04   -7916.218\n",
       "my_car_damage        0.0005      0.001      0.679      0.498      -0.001       0.002\n",
       "other_car_damage    -0.0011      0.000     -2.319      0.021      -0.002      -0.000\n",
       "==============================================================================\n",
       "Omnibus:                       45.374   Durbin-Watson:                   1.670\n",
       "Prob(Omnibus):                  0.000   Jarque-Bera (JB):               86.746\n",
       "Skew:                           0.871   Prob(JB):                     1.46e-19\n",
       "Kurtosis:                       5.137   Cond. No.                     4.56e+09\n",
       "==============================================================================\n",
       "\n",
       "Warnings:\n",
       "[1] Standard Errors assume that the covariance matrix of the errors is correctly specified.\n",
       "[2] The condition number is large, 4.56e+09. This might indicate that there are\n",
       "strong multicollinearity or other numerical problems.\n",
       "\"\"\""
      ]
     },
     "execution_count": 16,
     "metadata": {},
     "output_type": "execute_result"
    }
   ],
   "source": [
    "res.summary()"
   ]
  },
  {
   "cell_type": "markdown",
   "metadata": {},
   "source": [
    "### VIF 공식 = 1/(1-R^2)"
   ]
  },
  {
   "cell_type": "code",
   "execution_count": 18,
   "metadata": {},
   "outputs": [
    {
     "data": {
      "text/plain": [
       "1.5105740181268883"
      ]
     },
     "execution_count": 18,
     "metadata": {},
     "output_type": "execute_result"
    }
   ],
   "source": [
    "vif = 1/(1-0.338)\n",
    "vif"
   ]
  },
  {
   "cell_type": "markdown",
   "metadata": {},
   "source": [
    "5,10이상일 때 다중공선성에 문제가 있다고 보는데 여기선 1.5이므로 문제 없음!"
   ]
  },
  {
   "cell_type": "code",
   "execution_count": null,
   "metadata": {},
   "outputs": [],
   "source": []
  }
 ],
 "metadata": {
  "kernelspec": {
   "display_name": "Python 3",
   "language": "python",
   "name": "python3"
  },
  "language_info": {
   "codemirror_mode": {
    "name": "ipython",
    "version": 3
   },
   "file_extension": ".py",
   "mimetype": "text/x-python",
   "name": "python",
   "nbconvert_exporter": "python",
   "pygments_lexer": "ipython3",
   "version": "3.7.7"
  }
 },
 "nbformat": 4,
 "nbformat_minor": 4
}
