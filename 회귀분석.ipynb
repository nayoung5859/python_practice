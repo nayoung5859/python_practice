{
 "cells": [
  {
   "cell_type": "markdown",
   "metadata": {},
   "source": [
    "### 로지스틱 회귀분석 실습"
   ]
  },
  {
   "cell_type": "code",
   "execution_count": 3,
   "metadata": {},
   "outputs": [],
   "source": [
    "import pandas as pd\n",
    "from statsmodels.formula.api import logit"
   ]
  },
  {
   "cell_type": "code",
   "execution_count": 9,
   "metadata": {},
   "outputs": [
    {
     "data": {
      "text/html": [
       "<div>\n",
       "<style scoped>\n",
       "    .dataframe tbody tr th:only-of-type {\n",
       "        vertical-align: middle;\n",
       "    }\n",
       "\n",
       "    .dataframe tbody tr th {\n",
       "        vertical-align: top;\n",
       "    }\n",
       "\n",
       "    .dataframe thead th {\n",
       "        text-align: right;\n",
       "    }\n",
       "</style>\n",
       "<table border=\"1\" class=\"dataframe\">\n",
       "  <thead>\n",
       "    <tr style=\"text-align: right;\">\n",
       "      <th></th>\n",
       "      <th>has_churned</th>\n",
       "      <th>time_since_first_purchase</th>\n",
       "      <th>time_since_last_purchase</th>\n",
       "    </tr>\n",
       "  </thead>\n",
       "  <tbody>\n",
       "    <tr>\n",
       "      <th>0</th>\n",
       "      <td>0</td>\n",
       "      <td>-1.089221</td>\n",
       "      <td>-0.721322</td>\n",
       "    </tr>\n",
       "    <tr>\n",
       "      <th>1</th>\n",
       "      <td>0</td>\n",
       "      <td>1.182983</td>\n",
       "      <td>3.634435</td>\n",
       "    </tr>\n",
       "    <tr>\n",
       "      <th>2</th>\n",
       "      <td>0</td>\n",
       "      <td>-0.846156</td>\n",
       "      <td>-0.427582</td>\n",
       "    </tr>\n",
       "    <tr>\n",
       "      <th>3</th>\n",
       "      <td>0</td>\n",
       "      <td>0.086942</td>\n",
       "      <td>-0.535672</td>\n",
       "    </tr>\n",
       "    <tr>\n",
       "      <th>4</th>\n",
       "      <td>0</td>\n",
       "      <td>-1.166642</td>\n",
       "      <td>-0.672640</td>\n",
       "    </tr>\n",
       "    <tr>\n",
       "      <th>...</th>\n",
       "      <td>...</td>\n",
       "      <td>...</td>\n",
       "      <td>...</td>\n",
       "    </tr>\n",
       "    <tr>\n",
       "      <th>395</th>\n",
       "      <td>1</td>\n",
       "      <td>1.077655</td>\n",
       "      <td>0.878567</td>\n",
       "    </tr>\n",
       "    <tr>\n",
       "      <th>396</th>\n",
       "      <td>1</td>\n",
       "      <td>-1.273770</td>\n",
       "      <td>-0.869016</td>\n",
       "    </tr>\n",
       "    <tr>\n",
       "      <th>397</th>\n",
       "      <td>1</td>\n",
       "      <td>-0.426195</td>\n",
       "      <td>0.684666</td>\n",
       "    </tr>\n",
       "    <tr>\n",
       "      <th>398</th>\n",
       "      <td>1</td>\n",
       "      <td>0.818836</td>\n",
       "      <td>1.428091</td>\n",
       "    </tr>\n",
       "    <tr>\n",
       "      <th>399</th>\n",
       "      <td>1</td>\n",
       "      <td>0.691452</td>\n",
       "      <td>1.346405</td>\n",
       "    </tr>\n",
       "  </tbody>\n",
       "</table>\n",
       "<p>400 rows × 3 columns</p>\n",
       "</div>"
      ],
      "text/plain": [
       "     has_churned  time_since_first_purchase  time_since_last_purchase\n",
       "0              0                  -1.089221                 -0.721322\n",
       "1              0                   1.182983                  3.634435\n",
       "2              0                  -0.846156                 -0.427582\n",
       "3              0                   0.086942                 -0.535672\n",
       "4              0                  -1.166642                 -0.672640\n",
       "..           ...                        ...                       ...\n",
       "395            1                   1.077655                  0.878567\n",
       "396            1                  -1.273770                 -0.869016\n",
       "397            1                  -0.426195                  0.684666\n",
       "398            1                   0.818836                  1.428091\n",
       "399            1                   0.691452                  1.346405\n",
       "\n",
       "[400 rows x 3 columns]"
      ]
     },
     "execution_count": 9,
     "metadata": {},
     "output_type": "execute_result"
    }
   ],
   "source": [
    "df = pd.read_csv(\"D:/데잇걸즈/data/churn.csv\")\n",
    "df"
   ]
  },
  {
   "cell_type": "code",
   "execution_count": 12,
   "metadata": {
    "scrolled": true
   },
   "outputs": [
    {
     "name": "stdout",
     "output_type": "stream",
     "text": [
      "Optimization terminated successfully.\n",
      "         Current function value: 0.651175\n",
      "         Iterations 5\n"
     ]
    },
    {
     "data": {
      "text/html": [
       "<table class=\"simpletable\">\n",
       "<caption>Logit Regression Results</caption>\n",
       "<tr>\n",
       "  <th>Dep. Variable:</th>      <td>has_churned</td>   <th>  No. Observations:  </th>  <td>   400</td>  \n",
       "</tr>\n",
       "<tr>\n",
       "  <th>Model:</th>                 <td>Logit</td>      <th>  Df Residuals:      </th>  <td>   397</td>  \n",
       "</tr>\n",
       "<tr>\n",
       "  <th>Method:</th>                 <td>MLE</td>       <th>  Df Model:          </th>  <td>     2</td>  \n",
       "</tr>\n",
       "<tr>\n",
       "  <th>Date:</th>            <td>Fri, 09 Oct 2020</td> <th>  Pseudo R-squ.:     </th>  <td>0.06055</td> \n",
       "</tr>\n",
       "<tr>\n",
       "  <th>Time:</th>                <td>16:41:58</td>     <th>  Log-Likelihood:    </th> <td> -260.47</td> \n",
       "</tr>\n",
       "<tr>\n",
       "  <th>converged:</th>             <td>True</td>       <th>  LL-Null:           </th> <td> -277.26</td> \n",
       "</tr>\n",
       "<tr>\n",
       "  <th>Covariance Type:</th>     <td>nonrobust</td>    <th>  LLR p-value:       </th> <td>5.113e-08</td>\n",
       "</tr>\n",
       "</table>\n",
       "<table class=\"simpletable\">\n",
       "<tr>\n",
       "              <td></td>                 <th>coef</th>     <th>std err</th>      <th>z</th>      <th>P>|z|</th>  <th>[0.025</th>    <th>0.975]</th>  \n",
       "</tr>\n",
       "<tr>\n",
       "  <th>Intercept</th>                 <td>   -0.1168</td> <td>    0.108</td> <td>   -1.082</td> <td> 0.279</td> <td>   -0.328</td> <td>    0.095</td>\n",
       "</tr>\n",
       "<tr>\n",
       "  <th>time_since_first_purchase</th> <td>   -0.6478</td> <td>    0.139</td> <td>   -4.655</td> <td> 0.000</td> <td>   -0.920</td> <td>   -0.375</td>\n",
       "</tr>\n",
       "<tr>\n",
       "  <th>time_since_last_purchase</th>  <td>    0.5122</td> <td>    0.113</td> <td>    4.514</td> <td> 0.000</td> <td>    0.290</td> <td>    0.735</td>\n",
       "</tr>\n",
       "</table>"
      ],
      "text/plain": [
       "<class 'statsmodels.iolib.summary.Summary'>\n",
       "\"\"\"\n",
       "                           Logit Regression Results                           \n",
       "==============================================================================\n",
       "Dep. Variable:            has_churned   No. Observations:                  400\n",
       "Model:                          Logit   Df Residuals:                      397\n",
       "Method:                           MLE   Df Model:                            2\n",
       "Date:                Fri, 09 Oct 2020   Pseudo R-squ.:                 0.06055\n",
       "Time:                        16:41:58   Log-Likelihood:                -260.47\n",
       "converged:                       True   LL-Null:                       -277.26\n",
       "Covariance Type:            nonrobust   LLR p-value:                 5.113e-08\n",
       "=============================================================================================\n",
       "                                coef    std err          z      P>|z|      [0.025      0.975]\n",
       "---------------------------------------------------------------------------------------------\n",
       "Intercept                    -0.1168      0.108     -1.082      0.279      -0.328       0.095\n",
       "time_since_first_purchase    -0.6478      0.139     -4.655      0.000      -0.920      -0.375\n",
       "time_since_last_purchase      0.5122      0.113      4.514      0.000       0.290       0.735\n",
       "=============================================================================================\n",
       "\"\"\""
      ]
     },
     "execution_count": 12,
     "metadata": {},
     "output_type": "execute_result"
    }
   ],
   "source": [
    "res = logit('has_churned~time_since_first_purchase+time_since_last_purchase',df).fit()\n",
    "res.summary()"
   ]
  },
  {
   "cell_type": "code",
   "execution_count": 13,
   "metadata": {},
   "outputs": [
    {
     "name": "stdout",
     "output_type": "stream",
     "text": [
      "Optimization terminated successfully.\n",
      "         Current function value: 0.679663\n",
      "         Iterations 4\n"
     ]
    },
    {
     "data": {
      "text/html": [
       "<table class=\"simpletable\">\n",
       "<caption>Logit Regression Results</caption>\n",
       "<tr>\n",
       "  <th>Dep. Variable:</th>      <td>has_churned</td>   <th>  No. Observations:  </th>  <td>   400</td> \n",
       "</tr>\n",
       "<tr>\n",
       "  <th>Model:</th>                 <td>Logit</td>      <th>  Df Residuals:      </th>  <td>   398</td> \n",
       "</tr>\n",
       "<tr>\n",
       "  <th>Method:</th>                 <td>MLE</td>       <th>  Df Model:          </th>  <td>     1</td> \n",
       "</tr>\n",
       "<tr>\n",
       "  <th>Date:</th>            <td>Fri, 09 Oct 2020</td> <th>  Pseudo R-squ.:     </th>  <td>0.01945</td>\n",
       "</tr>\n",
       "<tr>\n",
       "  <th>Time:</th>                <td>16:44:41</td>     <th>  Log-Likelihood:    </th> <td> -271.87</td>\n",
       "</tr>\n",
       "<tr>\n",
       "  <th>converged:</th>             <td>True</td>       <th>  LL-Null:           </th> <td> -277.26</td>\n",
       "</tr>\n",
       "<tr>\n",
       "  <th>Covariance Type:</th>     <td>nonrobust</td>    <th>  LLR p-value:       </th> <td>0.001022</td>\n",
       "</tr>\n",
       "</table>\n",
       "<table class=\"simpletable\">\n",
       "<tr>\n",
       "              <td></td>                 <th>coef</th>     <th>std err</th>      <th>z</th>      <th>P>|z|</th>  <th>[0.025</th>    <th>0.975]</th>  \n",
       "</tr>\n",
       "<tr>\n",
       "  <th>Intercept</th>                 <td>   -0.0152</td> <td>    0.102</td> <td>   -0.150</td> <td> 0.881</td> <td>   -0.214</td> <td>    0.184</td>\n",
       "</tr>\n",
       "<tr>\n",
       "  <th>time_since_first_purchase</th> <td>   -0.3548</td> <td>    0.111</td> <td>   -3.198</td> <td> 0.001</td> <td>   -0.572</td> <td>   -0.137</td>\n",
       "</tr>\n",
       "</table>"
      ],
      "text/plain": [
       "<class 'statsmodels.iolib.summary.Summary'>\n",
       "\"\"\"\n",
       "                           Logit Regression Results                           \n",
       "==============================================================================\n",
       "Dep. Variable:            has_churned   No. Observations:                  400\n",
       "Model:                          Logit   Df Residuals:                      398\n",
       "Method:                           MLE   Df Model:                            1\n",
       "Date:                Fri, 09 Oct 2020   Pseudo R-squ.:                 0.01945\n",
       "Time:                        16:44:41   Log-Likelihood:                -271.87\n",
       "converged:                       True   LL-Null:                       -277.26\n",
       "Covariance Type:            nonrobust   LLR p-value:                  0.001022\n",
       "=============================================================================================\n",
       "                                coef    std err          z      P>|z|      [0.025      0.975]\n",
       "---------------------------------------------------------------------------------------------\n",
       "Intercept                    -0.0152      0.102     -0.150      0.881      -0.214       0.184\n",
       "time_since_first_purchase    -0.3548      0.111     -3.198      0.001      -0.572      -0.137\n",
       "=============================================================================================\n",
       "\"\"\""
      ]
     },
     "execution_count": 13,
     "metadata": {},
     "output_type": "execute_result"
    }
   ],
   "source": [
    "res = logit('has_churned~time_since_first_purchase',df).fit()\n",
    "res.summary()"
   ]
  },
  {
   "cell_type": "code",
   "execution_count": 14,
   "metadata": {},
   "outputs": [
    {
     "name": "stdout",
     "output_type": "stream",
     "text": [
      "Optimization terminated successfully.\n",
      "         Current function value: 0.683000\n",
      "         Iterations 4\n"
     ]
    },
    {
     "data": {
      "text/html": [
       "<table class=\"simpletable\">\n",
       "<caption>Logit Regression Results</caption>\n",
       "<tr>\n",
       "  <th>Dep. Variable:</th>      <td>has_churned</td>   <th>  No. Observations:  </th>  <td>   400</td> \n",
       "</tr>\n",
       "<tr>\n",
       "  <th>Model:</th>                 <td>Logit</td>      <th>  Df Residuals:      </th>  <td>   398</td> \n",
       "</tr>\n",
       "<tr>\n",
       "  <th>Method:</th>                 <td>MLE</td>       <th>  Df Model:          </th>  <td>     1</td> \n",
       "</tr>\n",
       "<tr>\n",
       "  <th>Date:</th>            <td>Fri, 09 Oct 2020</td> <th>  Pseudo R-squ.:     </th>  <td>0.01464</td>\n",
       "</tr>\n",
       "<tr>\n",
       "  <th>Time:</th>                <td>16:44:54</td>     <th>  Log-Likelihood:    </th> <td> -273.20</td>\n",
       "</tr>\n",
       "<tr>\n",
       "  <th>converged:</th>             <td>True</td>       <th>  LL-Null:           </th> <td> -277.26</td>\n",
       "</tr>\n",
       "<tr>\n",
       "  <th>Covariance Type:</th>     <td>nonrobust</td>    <th>  LLR p-value:       </th> <td>0.004384</td>\n",
       "</tr>\n",
       "</table>\n",
       "<table class=\"simpletable\">\n",
       "<tr>\n",
       "              <td></td>                <th>coef</th>     <th>std err</th>      <th>z</th>      <th>P>|z|</th>  <th>[0.025</th>    <th>0.975]</th>  \n",
       "</tr>\n",
       "<tr>\n",
       "  <th>Intercept</th>                <td>   -0.0350</td> <td>    0.102</td> <td>   -0.345</td> <td> 0.730</td> <td>   -0.234</td> <td>    0.164</td>\n",
       "</tr>\n",
       "<tr>\n",
       "  <th>time_since_last_purchase</th> <td>    0.2692</td> <td>    0.098</td> <td>    2.744</td> <td> 0.006</td> <td>    0.077</td> <td>    0.462</td>\n",
       "</tr>\n",
       "</table>"
      ],
      "text/plain": [
       "<class 'statsmodels.iolib.summary.Summary'>\n",
       "\"\"\"\n",
       "                           Logit Regression Results                           \n",
       "==============================================================================\n",
       "Dep. Variable:            has_churned   No. Observations:                  400\n",
       "Model:                          Logit   Df Residuals:                      398\n",
       "Method:                           MLE   Df Model:                            1\n",
       "Date:                Fri, 09 Oct 2020   Pseudo R-squ.:                 0.01464\n",
       "Time:                        16:44:54   Log-Likelihood:                -273.20\n",
       "converged:                       True   LL-Null:                       -277.26\n",
       "Covariance Type:            nonrobust   LLR p-value:                  0.004384\n",
       "============================================================================================\n",
       "                               coef    std err          z      P>|z|      [0.025      0.975]\n",
       "--------------------------------------------------------------------------------------------\n",
       "Intercept                   -0.0350      0.102     -0.345      0.730      -0.234       0.164\n",
       "time_since_last_purchase     0.2692      0.098      2.744      0.006       0.077       0.462\n",
       "============================================================================================\n",
       "\"\"\""
      ]
     },
     "execution_count": 14,
     "metadata": {},
     "output_type": "execute_result"
    }
   ],
   "source": [
    "res = logit('has_churned~time_since_last_purchase',df).fit()\n",
    "res.summary()"
   ]
  },
  {
   "cell_type": "markdown",
   "metadata": {},
   "source": [
    "### 데이터 만들어 실습해보기"
   ]
  },
  {
   "cell_type": "code",
   "execution_count": 21,
   "metadata": {},
   "outputs": [
    {
     "data": {
      "text/html": [
       "<div>\n",
       "<style scoped>\n",
       "    .dataframe tbody tr th:only-of-type {\n",
       "        vertical-align: middle;\n",
       "    }\n",
       "\n",
       "    .dataframe tbody tr th {\n",
       "        vertical-align: top;\n",
       "    }\n",
       "\n",
       "    .dataframe thead th {\n",
       "        text-align: right;\n",
       "    }\n",
       "</style>\n",
       "<table border=\"1\" class=\"dataframe\">\n",
       "  <thead>\n",
       "    <tr style=\"text-align: right;\">\n",
       "      <th></th>\n",
       "      <th>투자유치</th>\n",
       "      <th>성장성</th>\n",
       "      <th>안정성</th>\n",
       "      <th>임원진</th>\n",
       "    </tr>\n",
       "  </thead>\n",
       "  <tbody>\n",
       "    <tr>\n",
       "      <th>0</th>\n",
       "      <td>1</td>\n",
       "      <td>4</td>\n",
       "      <td>5</td>\n",
       "      <td>4</td>\n",
       "    </tr>\n",
       "    <tr>\n",
       "      <th>1</th>\n",
       "      <td>1</td>\n",
       "      <td>4</td>\n",
       "      <td>5</td>\n",
       "      <td>5</td>\n",
       "    </tr>\n",
       "    <tr>\n",
       "      <th>2</th>\n",
       "      <td>1</td>\n",
       "      <td>5</td>\n",
       "      <td>3</td>\n",
       "      <td>4</td>\n",
       "    </tr>\n",
       "    <tr>\n",
       "      <th>3</th>\n",
       "      <td>1</td>\n",
       "      <td>5</td>\n",
       "      <td>4</td>\n",
       "      <td>5</td>\n",
       "    </tr>\n",
       "    <tr>\n",
       "      <th>4</th>\n",
       "      <td>1</td>\n",
       "      <td>5</td>\n",
       "      <td>3</td>\n",
       "      <td>5</td>\n",
       "    </tr>\n",
       "  </tbody>\n",
       "</table>\n",
       "</div>"
      ],
      "text/plain": [
       "   투자유치  성장성  안정성  임원진\n",
       "0     1    4    5    4\n",
       "1     1    4    5    5\n",
       "2     1    5    3    4\n",
       "3     1    5    4    5\n",
       "4     1    5    3    5"
      ]
     },
     "execution_count": 21,
     "metadata": {},
     "output_type": "execute_result"
    }
   ],
   "source": [
    "data = pd.read_csv(\"D:/데잇걸즈/data/로지스틱 회귀분석 2조 실습.csv\", encoding='utf-8')\n",
    "data.head()"
   ]
  },
  {
   "cell_type": "code",
   "execution_count": 23,
   "metadata": {},
   "outputs": [
    {
     "name": "stdout",
     "output_type": "stream",
     "text": [
      "Optimization terminated successfully.\n",
      "         Current function value: 0.353370\n",
      "         Iterations 7\n"
     ]
    },
    {
     "data": {
      "text/html": [
       "<table class=\"simpletable\">\n",
       "<caption>Logit Regression Results</caption>\n",
       "<tr>\n",
       "  <th>Dep. Variable:</th>         <td>투자유치</td>       <th>  No. Observations:  </th>  <td>    20</td> \n",
       "</tr>\n",
       "<tr>\n",
       "  <th>Model:</th>                 <td>Logit</td>      <th>  Df Residuals:      </th>  <td>    16</td> \n",
       "</tr>\n",
       "<tr>\n",
       "  <th>Method:</th>                 <td>MLE</td>       <th>  Df Model:          </th>  <td>     3</td> \n",
       "</tr>\n",
       "<tr>\n",
       "  <th>Date:</th>            <td>Fri, 09 Oct 2020</td> <th>  Pseudo R-squ.:     </th>  <td>0.4542</td> \n",
       "</tr>\n",
       "<tr>\n",
       "  <th>Time:</th>                <td>17:34:29</td>     <th>  Log-Likelihood:    </th> <td> -7.0674</td>\n",
       "</tr>\n",
       "<tr>\n",
       "  <th>converged:</th>             <td>True</td>       <th>  LL-Null:           </th> <td> -12.949</td>\n",
       "</tr>\n",
       "<tr>\n",
       "  <th>Covariance Type:</th>     <td>nonrobust</td>    <th>  LLR p-value:       </th> <td>0.008240</td>\n",
       "</tr>\n",
       "</table>\n",
       "<table class=\"simpletable\">\n",
       "<tr>\n",
       "      <td></td>         <th>coef</th>     <th>std err</th>      <th>z</th>      <th>P>|z|</th>  <th>[0.025</th>    <th>0.975]</th>  \n",
       "</tr>\n",
       "<tr>\n",
       "  <th>Intercept</th> <td>   -5.2529</td> <td>    2.793</td> <td>   -1.881</td> <td> 0.060</td> <td>  -10.727</td> <td>    0.221</td>\n",
       "</tr>\n",
       "<tr>\n",
       "  <th>성장성</th>       <td>    0.6411</td> <td>    0.520</td> <td>    1.233</td> <td> 0.217</td> <td>   -0.378</td> <td>    1.660</td>\n",
       "</tr>\n",
       "<tr>\n",
       "  <th>안정성</th>       <td>    0.0733</td> <td>    0.472</td> <td>    0.156</td> <td> 0.876</td> <td>   -0.851</td> <td>    0.998</td>\n",
       "</tr>\n",
       "<tr>\n",
       "  <th>임원진</th>       <td>    1.3526</td> <td>    0.818</td> <td>    1.654</td> <td> 0.098</td> <td>   -0.250</td> <td>    2.955</td>\n",
       "</tr>\n",
       "</table>"
      ],
      "text/plain": [
       "<class 'statsmodels.iolib.summary.Summary'>\n",
       "\"\"\"\n",
       "                           Logit Regression Results                           \n",
       "==============================================================================\n",
       "Dep. Variable:                   투자유치   No. Observations:                   20\n",
       "Model:                          Logit   Df Residuals:                       16\n",
       "Method:                           MLE   Df Model:                            3\n",
       "Date:                Fri, 09 Oct 2020   Pseudo R-squ.:                  0.4542\n",
       "Time:                        17:34:29   Log-Likelihood:                -7.0674\n",
       "converged:                       True   LL-Null:                       -12.949\n",
       "Covariance Type:            nonrobust   LLR p-value:                  0.008240\n",
       "==============================================================================\n",
       "                 coef    std err          z      P>|z|      [0.025      0.975]\n",
       "------------------------------------------------------------------------------\n",
       "Intercept     -5.2529      2.793     -1.881      0.060     -10.727       0.221\n",
       "성장성            0.6411      0.520      1.233      0.217      -0.378       1.660\n",
       "안정성            0.0733      0.472      0.156      0.876      -0.851       0.998\n",
       "임원진            1.3526      0.818      1.654      0.098      -0.250       2.955\n",
       "==============================================================================\n",
       "\"\"\""
      ]
     },
     "execution_count": 23,
     "metadata": {},
     "output_type": "execute_result"
    }
   ],
   "source": [
    "res = logit('투자유치~성장성+안정성+임원진',data).fit()\n",
    "res.summary()"
   ]
  },
  {
   "cell_type": "code",
   "execution_count": 33,
   "metadata": {},
   "outputs": [
    {
     "data": {
      "text/plain": [
       "20.176290716626827"
      ]
     },
     "execution_count": 33,
     "metadata": {},
     "output_type": "execute_result"
    }
   ],
   "source": [
    "res.aic"
   ]
  },
  {
   "cell_type": "code",
   "execution_count": 35,
   "metadata": {},
   "outputs": [
    {
     "name": "stdout",
     "output_type": "stream",
     "text": [
      "Optimization terminated successfully.\n",
      "         Current function value: 0.353980\n",
      "         Iterations 7\n"
     ]
    },
    {
     "data": {
      "text/plain": [
       "20.15921114307257"
      ]
     },
     "execution_count": 35,
     "metadata": {},
     "output_type": "execute_result"
    }
   ],
   "source": [
    "res = logit('투자유치~성장성+임원진',data).fit()\n",
    "res.aic"
   ]
  },
  {
   "cell_type": "markdown",
   "metadata": {},
   "source": [
    "aic가 낮을수록 좋은 모형!"
   ]
  },
  {
   "cell_type": "code",
   "execution_count": 36,
   "metadata": {},
   "outputs": [
    {
     "data": {
      "text/html": [
       "<table class=\"simpletable\">\n",
       "<caption>Logit Regression Results</caption>\n",
       "<tr>\n",
       "  <th>Dep. Variable:</th>         <td>투자유치</td>       <th>  No. Observations:  </th>  <td>    20</td> \n",
       "</tr>\n",
       "<tr>\n",
       "  <th>Model:</th>                 <td>Logit</td>      <th>  Df Residuals:      </th>  <td>    17</td> \n",
       "</tr>\n",
       "<tr>\n",
       "  <th>Method:</th>                 <td>MLE</td>       <th>  Df Model:          </th>  <td>     2</td> \n",
       "</tr>\n",
       "<tr>\n",
       "  <th>Date:</th>            <td>Fri, 09 Oct 2020</td> <th>  Pseudo R-squ.:     </th>  <td>0.4533</td> \n",
       "</tr>\n",
       "<tr>\n",
       "  <th>Time:</th>                <td>17:41:42</td>     <th>  Log-Likelihood:    </th> <td> -7.0796</td>\n",
       "</tr>\n",
       "<tr>\n",
       "  <th>converged:</th>             <td>True</td>       <th>  LL-Null:           </th> <td> -12.949</td>\n",
       "</tr>\n",
       "<tr>\n",
       "  <th>Covariance Type:</th>     <td>nonrobust</td>    <th>  LLR p-value:       </th> <td>0.002825</td>\n",
       "</tr>\n",
       "</table>\n",
       "<table class=\"simpletable\">\n",
       "<tr>\n",
       "      <td></td>         <th>coef</th>     <th>std err</th>      <th>z</th>      <th>P>|z|</th>  <th>[0.025</th>    <th>0.975]</th>  \n",
       "</tr>\n",
       "<tr>\n",
       "  <th>Intercept</th> <td>   -5.0530</td> <td>    2.456</td> <td>   -2.057</td> <td> 0.040</td> <td>   -9.867</td> <td>   -0.239</td>\n",
       "</tr>\n",
       "<tr>\n",
       "  <th>성장성</th>       <td>    0.6646</td> <td>    0.502</td> <td>    1.324</td> <td> 0.185</td> <td>   -0.319</td> <td>    1.648</td>\n",
       "</tr>\n",
       "<tr>\n",
       "  <th>임원진</th>       <td>    1.3259</td> <td>    0.787</td> <td>    1.686</td> <td> 0.092</td> <td>   -0.216</td> <td>    2.868</td>\n",
       "</tr>\n",
       "</table>"
      ],
      "text/plain": [
       "<class 'statsmodels.iolib.summary.Summary'>\n",
       "\"\"\"\n",
       "                           Logit Regression Results                           \n",
       "==============================================================================\n",
       "Dep. Variable:                   투자유치   No. Observations:                   20\n",
       "Model:                          Logit   Df Residuals:                       17\n",
       "Method:                           MLE   Df Model:                            2\n",
       "Date:                Fri, 09 Oct 2020   Pseudo R-squ.:                  0.4533\n",
       "Time:                        17:41:42   Log-Likelihood:                -7.0796\n",
       "converged:                       True   LL-Null:                       -12.949\n",
       "Covariance Type:            nonrobust   LLR p-value:                  0.002825\n",
       "==============================================================================\n",
       "                 coef    std err          z      P>|z|      [0.025      0.975]\n",
       "------------------------------------------------------------------------------\n",
       "Intercept     -5.0530      2.456     -2.057      0.040      -9.867      -0.239\n",
       "성장성            0.6646      0.502      1.324      0.185      -0.319       1.648\n",
       "임원진            1.3259      0.787      1.686      0.092      -0.216       2.868\n",
       "==============================================================================\n",
       "\"\"\""
      ]
     },
     "execution_count": 36,
     "metadata": {},
     "output_type": "execute_result"
    }
   ],
   "source": [
    "res.summary()"
   ]
  },
  {
   "cell_type": "code",
   "execution_count": null,
   "metadata": {},
   "outputs": [],
   "source": []
  },
  {
   "cell_type": "code",
   "execution_count": null,
   "metadata": {},
   "outputs": [],
   "source": []
  }
 ],
 "metadata": {
  "kernelspec": {
   "display_name": "Python 3",
   "language": "python",
   "name": "python3"
  },
  "language_info": {
   "codemirror_mode": {
    "name": "ipython",
    "version": 3
   },
   "file_extension": ".py",
   "mimetype": "text/x-python",
   "name": "python",
   "nbconvert_exporter": "python",
   "pygments_lexer": "ipython3",
   "version": "3.7.7"
  }
 },
 "nbformat": 4,
 "nbformat_minor": 4
}
